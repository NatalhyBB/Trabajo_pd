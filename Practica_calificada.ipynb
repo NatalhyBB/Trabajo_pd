{
  "nbformat": 4,
  "nbformat_minor": 0,
  "metadata": {
    "colab": {
      "provenance": [],
      "authorship_tag": "ABX9TyOm3p6qICRAU5HlGXR6UfVi",
      "include_colab_link": true
    },
    "kernelspec": {
      "name": "python3",
      "display_name": "Python 3"
    },
    "language_info": {
      "name": "python"
    }
  },
  "cells": [
    {
      "cell_type": "markdown",
      "metadata": {
        "id": "view-in-github",
        "colab_type": "text"
      },
      "source": [
        "<a href=\"https://colab.research.google.com/github/NatalhyBB/Trabajo_pd/blob/main/Practica_calificada.ipynb\" target=\"_parent\"><img src=\"https://colab.research.google.com/assets/colab-badge.svg\" alt=\"Open In Colab\"/></a>"
      ]
    },
    {
      "cell_type": "markdown",
      "source": [
        "EJERCICIO 1"
      ],
      "metadata": {
        "id": "IWXRxBTUfSN2"
      }
    },
    {
      "cell_type": "markdown",
      "source": [
        "Crea un vector de numeros enteros del 1 al 20"
      ],
      "metadata": {
        "id": "aT_kwSOFf7AV"
      }
    },
    {
      "cell_type": "code",
      "source": [
        "import numpy as np\n",
        "\n",
        "vector = np.arange(1, 21)\n",
        "print(\"Vector del 1 al 20:\", vector)"
      ],
      "metadata": {
        "colab": {
          "base_uri": "https://localhost:8080/"
        },
        "id": "WiEA-0PWgIa-",
        "outputId": "f0169b6f-4851-4004-eca3-006f9962a61f"
      },
      "execution_count": 33,
      "outputs": [
        {
          "output_type": "stream",
          "name": "stdout",
          "text": [
            "Vector del 1 al 20: [ 1  2  3  4  5  6  7  8  9 10 11 12 13 14 15 16 17 18 19 20]\n"
          ]
        }
      ]
    },
    {
      "cell_type": "markdown",
      "source": [
        "Crea una matriz de 3x3 con valores aleatorios entre 0 y 1"
      ],
      "metadata": {
        "id": "oCsuBLfugDO1"
      }
    },
    {
      "cell_type": "code",
      "execution_count": 32,
      "metadata": {
        "colab": {
          "base_uri": "https://localhost:8080/"
        },
        "id": "ws2u5uW8diWL",
        "outputId": "1bc84e89-2b66-49f0-c086-4a8c565ab7bd"
      },
      "outputs": [
        {
          "output_type": "stream",
          "name": "stdout",
          "text": [
            "Matriz 3x3 aleatoria:\n",
            " [[0.64589411 0.43758721 0.891773  ]\n",
            " [0.96366276 0.38344152 0.79172504]\n",
            " [0.52889492 0.56804456 0.92559664]]\n"
          ]
        }
      ],
      "source": [
        "import numpy as np\n",
        "matriz_aleatoria = np.random.rand(3, 3)\n",
        "print(\"Matriz 3x3 aleatoria:\\n\", matriz_aleatoria)\n"
      ]
    },
    {
      "cell_type": "markdown",
      "source": [
        "Redimensiona una matriz de 4x4 a una matriz de 2x8"
      ],
      "metadata": {
        "id": "QdGNM48dgSu9"
      }
    },
    {
      "cell_type": "code",
      "source": [
        "import numpy as np\n",
        "matriz_4x4 = np.arange(1, 17).reshape(4, 4)\n",
        "matriz_2x8 = matriz_4x4.reshape(2, 8)\n",
        "print(\"Matriz 4x4 original:\\n\", matriz_4x4)\n",
        "print(\"Matriz redimensionada 2x8:\\n\", matriz_2x8)\n"
      ],
      "metadata": {
        "colab": {
          "base_uri": "https://localhost:8080/"
        },
        "id": "HsqXUGMCgIdd",
        "outputId": "273ca23d-4f9c-4a30-e8e4-0409f7f68a56"
      },
      "execution_count": 31,
      "outputs": [
        {
          "output_type": "stream",
          "name": "stdout",
          "text": [
            "Matriz 4x4 original:\n",
            " [[ 1  2  3  4]\n",
            " [ 5  6  7  8]\n",
            " [ 9 10 11 12]\n",
            " [13 14 15 16]]\n",
            "Matriz redimensionada 2x8:\n",
            " [[ 1  2  3  4  5  6  7  8]\n",
            " [ 9 10 11 12 13 14 15 16]]\n"
          ]
        }
      ]
    },
    {
      "cell_type": "markdown",
      "source": [
        "Crea un array de 10 múmeros equisitantes entre 0 y 1."
      ],
      "metadata": {
        "id": "1ScLOF3tgbwu"
      }
    },
    {
      "cell_type": "code",
      "source": [
        "import numpy as np\n",
        "equidistantes = np.linspace(0, 1, 10)\n",
        "print(\"Array equidistante entre 0 y 1:\", equidistantes)\n"
      ],
      "metadata": {
        "colab": {
          "base_uri": "https://localhost:8080/"
        },
        "id": "a7QAN7rMgkP-",
        "outputId": "b45914f3-3153-447e-b2f3-b6c9169b0a5c"
      },
      "execution_count": 30,
      "outputs": [
        {
          "output_type": "stream",
          "name": "stdout",
          "text": [
            "Array equidistante entre 0 y 1: [0.         0.11111111 0.22222222 0.33333333 0.44444444 0.55555556\n",
            " 0.66666667 0.77777778 0.88888889 1.        ]\n"
          ]
        }
      ]
    },
    {
      "cell_type": "markdown",
      "source": [
        "Concatena dos vectores verticales y horizontales"
      ],
      "metadata": {
        "id": "ofgyrF2OgoR1"
      }
    },
    {
      "cell_type": "code",
      "source": [
        "import numpy as np\n",
        "v1 = np.array([1, 2, 3])\n",
        "v2 = np.array([4, 5, 6])\n",
        "\n",
        "# Concatenación horizontal\n",
        "concat_horizontal = np.concatenate((v1, v2))\n",
        "print(\"Concatenación horizontal:\", concat_horizontal)\n",
        "\n",
        "# Concatenación vertical\n",
        "v1_col = v1.reshape(-1, 1)\n",
        "v2_col = v2.reshape(-1, 1)\n",
        "concat_vertical = np.concatenate((v1_col, v2_col), axis=1)\n",
        "print(\"Concatenación vertical:\\n\", concat_vertical)\n"
      ],
      "metadata": {
        "colab": {
          "base_uri": "https://localhost:8080/"
        },
        "id": "rHT1_WTsgtpO",
        "outputId": "c3c6c045-86ff-4ba1-e86b-d5b6784c8c1e"
      },
      "execution_count": 29,
      "outputs": [
        {
          "output_type": "stream",
          "name": "stdout",
          "text": [
            "Concatenación horizontal: [1 2 3 4 5 6]\n",
            "Concatenación vertical:\n",
            " [[1 4]\n",
            " [2 5]\n",
            " [3 6]]\n"
          ]
        }
      ]
    },
    {
      "cell_type": "markdown",
      "source": [
        "EJERCICIO 02"
      ],
      "metadata": {
        "id": "9moAuh_gg1Rt"
      }
    },
    {
      "cell_type": "markdown",
      "source": [
        "Calcula la suma, resta, multiplicación y división de dos vectores"
      ],
      "metadata": {
        "id": "zjEFtzYcg3Bl"
      }
    },
    {
      "cell_type": "code",
      "source": [
        "import numpy as np\n",
        "\n",
        "# Definimos dos vectores\n",
        "v1 = np.array([10, 20, 30])\n",
        "v2 = np.array([2, 5, 10])\n",
        "\n",
        "# Suma\n",
        "suma = v1 + v2\n",
        "\n",
        "# Resta\n",
        "resta = v1 - v2\n",
        "\n",
        "# Multiplicación (elemento a elemento)\n",
        "multiplicacion = v1 * v2\n",
        "\n",
        "# División (elemento a elemento)\n",
        "division = v1 / v2\n",
        "\n",
        "print(\"Suma:\", suma)\n",
        "print(\"Resta:\", resta)\n",
        "print(\"Multiplicación:\", multiplicacion)\n",
        "print(\"División:\", division)\n"
      ],
      "metadata": {
        "colab": {
          "base_uri": "https://localhost:8080/"
        },
        "id": "-wNSkqZXhagG",
        "outputId": "4cad5b93-0678-4231-e6dd-286a3306c6ff"
      },
      "execution_count": 28,
      "outputs": [
        {
          "output_type": "stream",
          "name": "stdout",
          "text": [
            "Suma: [12 25 40]\n",
            "Resta: [ 8 15 20]\n",
            "Multiplicación: [ 20 100 300]\n",
            "División: [5. 4. 3.]\n"
          ]
        }
      ]
    },
    {
      "cell_type": "markdown",
      "source": [
        "Calcula la media, mediana y desviación estándar de un vector"
      ],
      "metadata": {
        "id": "XtdE66ewg-TF"
      }
    },
    {
      "cell_type": "code",
      "source": [
        "import numpy as np\n",
        "\n",
        "# Definimos un vector\n",
        "vector = np.array([10, 20, 30, 40, 50])\n",
        "\n",
        "# Media (promedio)\n",
        "media = np.mean(vector)\n",
        "\n",
        "# Mediana\n",
        "mediana = np.median(vector)\n",
        "\n",
        "# Desviación estándar\n",
        "desviacion_estandar = np.std(vector)\n",
        "\n",
        "print(\"Media:\", media)\n",
        "print(\"Mediana:\", mediana)\n",
        "print(\"Desviación estándar:\", desviacion_estandar)\n"
      ],
      "metadata": {
        "colab": {
          "base_uri": "https://localhost:8080/"
        },
        "id": "o9d1SM-MhfMd",
        "outputId": "e00ed35c-ec97-4098-cd08-c63c49ff91cb"
      },
      "execution_count": 27,
      "outputs": [
        {
          "output_type": "stream",
          "name": "stdout",
          "text": [
            "Media: 30.0\n",
            "Mediana: 30.0\n",
            "Desviación estándar: 14.142135623730951\n"
          ]
        }
      ]
    },
    {
      "cell_type": "markdown",
      "source": [
        "Normaliza un vector dividiendo cada elemento por el valor maximo"
      ],
      "metadata": {
        "id": "mdffVXtBhEHN"
      }
    },
    {
      "cell_type": "code",
      "source": [
        "import numpy as np\n",
        "\n",
        "vector = np.array([2, 4, 6, 8, 10])\n",
        "\n",
        "maximo = np.max(vector)\n",
        "vector_normalizado = vector / maximo\n",
        "\n",
        "print(\"Vector original:\", vector)\n",
        "print(\"Vector normalizado:\", vector_normalizado)\n"
      ],
      "metadata": {
        "colab": {
          "base_uri": "https://localhost:8080/"
        },
        "id": "wBIXkd7bhkes",
        "outputId": "3ecf1b7c-d35d-4c17-9589-285d5aed6822"
      },
      "execution_count": 26,
      "outputs": [
        {
          "output_type": "stream",
          "name": "stdout",
          "text": [
            "Vector original: [ 2  4  6  8 10]\n",
            "Vector normalizado: [0.2 0.4 0.6 0.8 1. ]\n"
          ]
        }
      ]
    },
    {
      "cell_type": "markdown",
      "source": [
        "Encuentra el indice del valor maximo y minimo en un vector"
      ],
      "metadata": {
        "id": "4OCKA90LhKW9"
      }
    },
    {
      "cell_type": "code",
      "source": [
        "import numpy as np\n",
        "\n",
        "vector = np.array([10, 25, 5, 40, 15])\n",
        "\n",
        "indice_max = np.argmax(vector)\n",
        "indice_min = np.argmin(vector)\n",
        "\n",
        "print(\"Índice del valor máximo:\", indice_max)\n",
        "print(\"Índice del valor mínimo:\", indice_min)\n"
      ],
      "metadata": {
        "colab": {
          "base_uri": "https://localhost:8080/"
        },
        "id": "lQ-8iRGdhr-N",
        "outputId": "95b213dd-b284-40d4-ba94-8782a5d507e0"
      },
      "execution_count": 25,
      "outputs": [
        {
          "output_type": "stream",
          "name": "stdout",
          "text": [
            "Índice del valor máximo: 3\n",
            "Índice del valor mínimo: 2\n"
          ]
        }
      ]
    },
    {
      "cell_type": "markdown",
      "source": [
        "Realiza una multiplicación matricial entre dos matrices 3x3"
      ],
      "metadata": {
        "id": "agiCVYD-hPAN"
      }
    },
    {
      "cell_type": "code",
      "source": [
        "import numpy as np\n",
        "\n",
        "# Definimos dos matrices 3x3\n",
        "A = np.array([[1, 2, 3],\n",
        "              [4, 5, 6],\n",
        "              [7, 8, 9]])\n",
        "\n",
        "B = np.array([[9, 8, 7],\n",
        "              [6, 5, 4],\n",
        "              [3, 2, 1]])\n",
        "\n",
        "# Multiplicación matricial\n",
        "C = np.matmul(A, B)\n",
        "\n",
        "print(\"Matriz A:\\n\", A)\n",
        "print(\"Matriz B:\\n\", B)\n",
        "print(\"Multiplicación matricial A x B:\\n\", C)\n"
      ],
      "metadata": {
        "colab": {
          "base_uri": "https://localhost:8080/"
        },
        "id": "HtQiYzt7h23d",
        "outputId": "7e2e6c8a-8efe-416c-cb1c-135b703c71aa"
      },
      "execution_count": 24,
      "outputs": [
        {
          "output_type": "stream",
          "name": "stdout",
          "text": [
            "Matriz A:\n",
            " [[1 2 3]\n",
            " [4 5 6]\n",
            " [7 8 9]]\n",
            "Matriz B:\n",
            " [[9 8 7]\n",
            " [6 5 4]\n",
            " [3 2 1]]\n",
            "Multiplicación matricial A x B:\n",
            " [[ 30  24  18]\n",
            " [ 84  69  54]\n",
            " [138 114  90]]\n"
          ]
        }
      ]
    },
    {
      "cell_type": "markdown",
      "source": [
        "EJERCICIO 03"
      ],
      "metadata": {
        "id": "XgnjEb8wh60V"
      }
    },
    {
      "cell_type": "markdown",
      "source": [
        "Selecciona los elementos pares de un vector de números"
      ],
      "metadata": {
        "id": "XX0p7ZN0h9O-"
      }
    },
    {
      "cell_type": "code",
      "source": [
        "import numpy as np\n",
        "\n",
        "vector = np.array([1, 2, 3, 4, 5, 6, 7, 8, 9, 10])\n",
        "\n",
        "# Seleccionar elementos pares\n",
        "pares = vector[vector % 2 == 0]\n",
        "\n",
        "print(\"Elementos pares:\", pares)\n"
      ],
      "metadata": {
        "colab": {
          "base_uri": "https://localhost:8080/"
        },
        "id": "Zi4StJMeiZlF",
        "outputId": "d548572b-017d-4d70-9896-0a79917cb7ee"
      },
      "execution_count": 23,
      "outputs": [
        {
          "output_type": "stream",
          "name": "stdout",
          "text": [
            "Elementos pares: [ 2  4  6  8 10]\n"
          ]
        }
      ]
    },
    {
      "cell_type": "markdown",
      "source": [
        "Filtra los valores mayores que 5 en un vector"
      ],
      "metadata": {
        "id": "a8_kxY1EiEfd"
      }
    },
    {
      "cell_type": "code",
      "source": [
        "import numpy as np\n",
        "\n",
        "vector = np.array([2, 5, 7, 3, 9, 1, 6])\n",
        "\n",
        "# Filtrar valores mayores que 5\n",
        "mayores_que_5 = vector[vector > 5]\n",
        "\n",
        "print(\"Valores mayores que 5:\", mayores_que_5)\n"
      ],
      "metadata": {
        "colab": {
          "base_uri": "https://localhost:8080/"
        },
        "id": "jw-3gUesibWm",
        "outputId": "fb91f82a-9136-4dc6-a555-1146d7c2c792"
      },
      "execution_count": 22,
      "outputs": [
        {
          "output_type": "stream",
          "name": "stdout",
          "text": [
            "Valores mayores que 5: [7 9 6]\n"
          ]
        }
      ]
    },
    {
      "cell_type": "markdown",
      "source": [
        "Filtra los valores iguales a cero"
      ],
      "metadata": {
        "id": "P20Pz_COiImN"
      }
    },
    {
      "cell_type": "code",
      "source": [
        "import numpy as np\n",
        "\n",
        "vector = np.array([0, 1, 2, 0, 3, 0, 4, 5])\n",
        "\n",
        "# Filtrar valores iguales a cero\n",
        "ceros = vector[vector == 0]\n",
        "\n",
        "print(\"Valores iguales a cero:\", ceros)\n"
      ],
      "metadata": {
        "colab": {
          "base_uri": "https://localhost:8080/"
        },
        "id": "07jdFdDOify9",
        "outputId": "23a9c805-1a44-40d9-fd6d-17de19fbb320"
      },
      "execution_count": 21,
      "outputs": [
        {
          "output_type": "stream",
          "name": "stdout",
          "text": [
            "Valores iguales a cero: [0 0 0]\n"
          ]
        }
      ]
    },
    {
      "cell_type": "markdown",
      "source": [
        "Filtra los valores negativos"
      ],
      "metadata": {
        "id": "vH4dSIqtiLLN"
      }
    },
    {
      "cell_type": "code",
      "source": [
        "import numpy as np\n",
        "\n",
        "vector = np.array([3, -1, 7, -5, 0, -2, 4])\n",
        "\n",
        "# Filtrar valores negativos\n",
        "negativos = vector[vector < 0]\n",
        "\n",
        "print(\"Valores negativos:\", negativos)"
      ],
      "metadata": {
        "colab": {
          "base_uri": "https://localhost:8080/"
        },
        "id": "a5mgC1buixsc",
        "outputId": "362d149a-a06d-468d-8867-5d345b22392c"
      },
      "execution_count": 20,
      "outputs": [
        {
          "output_type": "stream",
          "name": "stdout",
          "text": [
            "Valores negativos: [-1 -5 -2]\n"
          ]
        }
      ]
    },
    {
      "cell_type": "markdown",
      "source": [
        "Aplica la media a los valores mayores a 50"
      ],
      "metadata": {
        "id": "k12YdYGmiPN8"
      }
    },
    {
      "cell_type": "code",
      "source": [
        "import numpy as np\n",
        "\n",
        "vector = np.array([10, 55, 70, 45, 90, 30, 60])\n",
        "\n",
        "# Filtrar valores mayores a 50\n",
        "mayores_50 = vector[vector > 50]\n",
        "\n",
        "# Calcular la media de esos valores\n",
        "media_mayores_50 = np.mean(mayores_50)\n",
        "\n",
        "print(\"Valores mayores a 50:\", mayores_50)\n",
        "print(\"Media de valores mayores a 50:\", media_mayores_50)\n"
      ],
      "metadata": {
        "colab": {
          "base_uri": "https://localhost:8080/"
        },
        "id": "fgY1nnG_izvM",
        "outputId": "ca9e4d18-ed84-479c-d45d-5ccf4697919f"
      },
      "execution_count": 19,
      "outputs": [
        {
          "output_type": "stream",
          "name": "stdout",
          "text": [
            "Valores mayores a 50: [55 70 90 60]\n",
            "Media de valores mayores a 50: 68.75\n"
          ]
        }
      ]
    },
    {
      "cell_type": "markdown",
      "source": [
        "EJERCICIO 04"
      ],
      "metadata": {
        "id": "UOo6sr_Mi9jV"
      }
    },
    {
      "cell_type": "markdown",
      "source": [
        "Crea un vector de 10 elementos y reemplaza todos los valores mayores que 5 con 0"
      ],
      "metadata": {
        "id": "IJrA7H10i_51"
      }
    },
    {
      "cell_type": "code",
      "source": [
        "import numpy as np\n",
        "\n",
        "# Crear un vector de 10 elementos\n",
        "vector = np.arange(1, 11)\n",
        "print(\"Vector original:\", vector)\n",
        "\n",
        "# Reemplazar valores mayores que 5 con 0\n",
        "vector[vector > 5] = 0\n",
        "\n",
        "print(\"Vector modificado:\", vector)\n"
      ],
      "metadata": {
        "colab": {
          "base_uri": "https://localhost:8080/"
        },
        "id": "U-6otBSTjxE1",
        "outputId": "fe40fdad-bf44-4c36-fb89-de87bafb90cb"
      },
      "execution_count": 18,
      "outputs": [
        {
          "output_type": "stream",
          "name": "stdout",
          "text": [
            "Vector original: [ 1  2  3  4  5  6  7  8  9 10]\n",
            "Vector modificado: [1 2 3 4 5 0 0 0 0 0]\n"
          ]
        }
      ]
    },
    {
      "cell_type": "markdown",
      "source": [
        "Combina dos vectores booleanos utilizando las operaciones & y |"
      ],
      "metadata": {
        "id": "8xRLKTdIjJ4U"
      }
    },
    {
      "cell_type": "code",
      "source": [
        "import numpy as np\n",
        "\n",
        "# Definimos dos vectores booleanos\n",
        "v1 = np.array([True, False, True, False])\n",
        "v2 = np.array([True, True, False, False])\n",
        "\n",
        "# Operación AND\n",
        "and_resultado = v1 & v2\n",
        "\n",
        "# Operación OR\n",
        "or_resultado = v1 | v2\n",
        "\n",
        "print(\"v1:\", v1)\n",
        "print(\"v2:\", v2)\n",
        "print(\"AND (v1 & v2):\", and_resultado)\n",
        "print(\"OR (v1 | v2):\", or_resultado)\n"
      ],
      "metadata": {
        "colab": {
          "base_uri": "https://localhost:8080/"
        },
        "id": "WUX7F60gj9P0",
        "outputId": "793d4d4a-36d8-4518-91ac-a4ebfd397c5d"
      },
      "execution_count": 17,
      "outputs": [
        {
          "output_type": "stream",
          "name": "stdout",
          "text": [
            "v1: [ True False  True False]\n",
            "v2: [ True  True False False]\n",
            "AND (v1 & v2): [ True False False False]\n",
            "OR (v1 | v2): [ True  True  True False]\n"
          ]
        }
      ]
    },
    {
      "cell_type": "markdown",
      "source": [
        "Cuenta la cantidad de valores en un vector que son multiplos de 3"
      ],
      "metadata": {
        "id": "zONi655JjRiF"
      }
    },
    {
      "cell_type": "code",
      "source": [
        "import numpy as np\n",
        "\n",
        "vector = np.array([3, 5, 9, 12, 14, 18, 20, 21])\n",
        "\n",
        "# Condición para múltiplos de 3\n",
        "multiplos_de_3 = vector[vector % 3 == 0]\n",
        "\n",
        "# Contar cuántos hay\n",
        "cantidad = multiplos_de_3.size\n",
        "\n",
        "print(\"Valores múltiplos de 3:\", multiplos_de_3)\n",
        "print(\"Cantidad de múltiplos de 3:\", cantidad)"
      ],
      "metadata": {
        "colab": {
          "base_uri": "https://localhost:8080/"
        },
        "id": "-62K523akFLM",
        "outputId": "a6016884-4086-40a7-a9bb-f75346bf2d39"
      },
      "execution_count": 16,
      "outputs": [
        {
          "output_type": "stream",
          "name": "stdout",
          "text": [
            "Valores múltiplos de 3: [ 3  9 12 18 21]\n",
            "Cantidad de múltiplos de 3: 5\n"
          ]
        }
      ]
    },
    {
      "cell_type": "markdown",
      "source": [
        "Encuentra los indices de los elementos no nulos en un vector"
      ],
      "metadata": {
        "id": "btCzocd7jb1l"
      }
    },
    {
      "cell_type": "code",
      "source": [
        "import numpy as np\n",
        "\n",
        "vector = np.array([0, 2, 0, 5, 6, 0, 7])\n",
        "\n",
        "# Obtener índices de elementos no nulos\n",
        "indices_no_nulos = np.nonzero(vector)[0]\n",
        "\n",
        "print(\"Índices de elementos no nulos:\", indices_no_nulos)\n"
      ],
      "metadata": {
        "colab": {
          "base_uri": "https://localhost:8080/"
        },
        "id": "2voVOK-okVQ0",
        "outputId": "23a1d136-b837-4ff1-b4a1-7c530e869092"
      },
      "execution_count": 15,
      "outputs": [
        {
          "output_type": "stream",
          "name": "stdout",
          "text": [
            "Índices de elementos no nulos: [1 3 4 6]\n"
          ]
        }
      ]
    },
    {
      "cell_type": "markdown",
      "source": [
        "Comprueba si todos los elemntos en un array son mayores que un valor especifico digitado por el usuario"
      ],
      "metadata": {
        "id": "zcEa0A2lkeC8"
      }
    },
    {
      "cell_type": "code",
      "source": [
        "import numpy as np\n",
        "\n",
        "# Definimos un array\n",
        "array = np.array([10, 20, 30, 40, 50])\n",
        "\n",
        "valor = float(input(\"Ingresa un valor para comparar: \"))\n",
        "\n",
        "# Comprobar si todos los elementos son mayores que el valor\n",
        "resultado = np.all(array > valor)\n",
        "\n",
        "if resultado:\n",
        "    print(f\"Todos los elementos son mayores que {valor}\")\n",
        "else:\n",
        "    print(f\"No todos los elementos son mayores que {valor}\")\n"
      ],
      "metadata": {
        "colab": {
          "base_uri": "https://localhost:8080/"
        },
        "id": "CKlnwD-Okqkc",
        "outputId": "7f20afd7-bac2-4910-a784-a433d6a144d6"
      },
      "execution_count": 14,
      "outputs": [
        {
          "output_type": "stream",
          "name": "stdout",
          "text": [
            "Ingresa un valor para comparar: 12\n",
            "No todos los elementos son mayores que 12.0\n"
          ]
        }
      ]
    },
    {
      "cell_type": "markdown",
      "source": [
        "EJERICICO 05"
      ],
      "metadata": {
        "id": "PmaOys6Kkae8"
      }
    },
    {
      "cell_type": "markdown",
      "source": [
        "Calcula el cuadrado de cada elemento en un vector"
      ],
      "metadata": {
        "id": "-OUmP558kxTj"
      }
    },
    {
      "cell_type": "code",
      "source": [
        "import numpy as np\n",
        "\n",
        "vector = np.array([1, 2, 3, 4, 5])\n",
        "\n",
        "cuadrado = vector ** 2\n",
        "\n",
        "print(\"Vector original:\", vector)\n",
        "print(\"Cuadrado de cada elemento:\", cuadrado)"
      ],
      "metadata": {
        "colab": {
          "base_uri": "https://localhost:8080/"
        },
        "id": "VzpUhLDRlaYc",
        "outputId": "13aed7c7-3cd3-4683-8fc9-fca1b18d6cc4"
      },
      "execution_count": 13,
      "outputs": [
        {
          "output_type": "stream",
          "name": "stdout",
          "text": [
            "Vector original: [1 2 3 4 5]\n",
            "Cuadrado de cada elemento: [ 1  4  9 16 25]\n"
          ]
        }
      ]
    },
    {
      "cell_type": "markdown",
      "source": [
        "Utiliza la funcion exponencial para elevar todos los elementos de un vector a la misma potencia"
      ],
      "metadata": {
        "id": "GlSYTpn1k4gd"
      }
    },
    {
      "cell_type": "code",
      "source": [
        "import numpy as np\n",
        "\n",
        "vector = np.array([1, 2, 3, 4, 5])\n",
        "\n",
        "# Definir la potencia\n",
        "potencia = 3\n",
        "\n",
        "# Elevar todos los elementos a la potencia\n",
        "resultado = np.power(vector, potencia)\n",
        "\n",
        "print(\"Vector original:\", vector)\n",
        "print(f\"Vector elevado a la potencia {potencia}:\", resultado)\n"
      ],
      "metadata": {
        "colab": {
          "base_uri": "https://localhost:8080/"
        },
        "id": "RsfYdMPVlh8j",
        "outputId": "662274ae-fa0e-4b3c-be86-6939b02d1d56"
      },
      "execution_count": 12,
      "outputs": [
        {
          "output_type": "stream",
          "name": "stdout",
          "text": [
            "Vector original: [1 2 3 4 5]\n",
            "Vector elevado a la potencia 3: [  1   8  27  64 125]\n"
          ]
        }
      ]
    },
    {
      "cell_type": "markdown",
      "source": [
        "  Encuentra los valores máximos y mínimos en cada fila de una matriz"
      ],
      "metadata": {
        "id": "IohCpLgKlBh8"
      }
    },
    {
      "cell_type": "code",
      "source": [
        "import numpy as np\n",
        "\n",
        "# Crear una matriz\n",
        "matriz = np.array([[5, 2, 8, 1],\n",
        "                   [7, 9, 3, 4],\n",
        "                   [6, 0, 2, 5]])\n",
        "\n",
        "# Máximos por fila\n",
        "maximos_filas = np.max(matriz, axis=1)\n",
        "\n",
        "# Mínimos por fila\n",
        "minimos_filas = np.min(matriz, axis=1)\n",
        "\n",
        "print(\"Matriz:\\n\", matriz)\n",
        "print(\"Máximos por fila:\", maximos_filas)\n",
        "print(\"Mínimos por fila:\", minimos_filas)\n"
      ],
      "metadata": {
        "colab": {
          "base_uri": "https://localhost:8080/"
        },
        "id": "8Le3z4VUlqT0",
        "outputId": "87f48092-3416-4696-e272-8016feb280ba"
      },
      "execution_count": 11,
      "outputs": [
        {
          "output_type": "stream",
          "name": "stdout",
          "text": [
            "Matriz:\n",
            " [[5 2 8 1]\n",
            " [7 9 3 4]\n",
            " [6 0 2 5]]\n",
            "Máximos por fila: [8 9 6]\n",
            "Mínimos por fila: [1 3 0]\n"
          ]
        }
      ]
    },
    {
      "cell_type": "markdown",
      "source": [
        "Aplica la función sin a todos los elementos de un vector a la misma potencia"
      ],
      "metadata": {
        "id": "YiuR6Z8hlJss"
      }
    },
    {
      "cell_type": "code",
      "source": [
        "import numpy as np\n",
        "\n",
        "vector = np.array([0, np.pi/6, np.pi/4, np.pi/3, np.pi/2])\n",
        "\n",
        "potencia = 2\n",
        "# Aplicar sin a cada elemento y luego elevar al cuadrado\n",
        "resultado = np.power(np.sin(vector), potencia)\n",
        "\n",
        "print(\"Vector original (radianes):\", vector)\n",
        "print(f\"sin(vector) elevado a la potencia {potencia}:\", resultado)\n"
      ],
      "metadata": {
        "colab": {
          "base_uri": "https://localhost:8080/"
        },
        "id": "Pnsf323RlwMT",
        "outputId": "010f9124-cc94-4f40-b279-59a017c3784a"
      },
      "execution_count": 10,
      "outputs": [
        {
          "output_type": "stream",
          "name": "stdout",
          "text": [
            "Vector original (radianes): [0.         0.52359878 0.78539816 1.04719755 1.57079633]\n",
            "sin(vector) elevado a la potencia 2: [0.   0.25 0.5  0.75 1.  ]\n"
          ]
        }
      ]
    },
    {
      "cell_type": "markdown",
      "source": [
        "Realiza la transpuesta de una matriz 3x4"
      ],
      "metadata": {
        "id": "2jcWtd2SlPp8"
      }
    },
    {
      "cell_type": "code",
      "source": [
        "import numpy as np\n",
        "\n",
        "matriz = np.array([[2, 4, 5, 6],\n",
        "                   [1, 2, 4, 5],\n",
        "                   [4, 5, 7, 8]])\n",
        "\n",
        "transpuesta = matriz.T\n",
        "\n",
        "print(\"Matriz original:\\n\", matriz)\n",
        "print(\"Transpuesta:\\n\", transpuesta)"
      ],
      "metadata": {
        "colab": {
          "base_uri": "https://localhost:8080/"
        },
        "id": "BPIDUwhqkZ2U",
        "outputId": "c0d751b3-2dca-4a17-ed83-4839dcaa0b10"
      },
      "execution_count": 9,
      "outputs": [
        {
          "output_type": "stream",
          "name": "stdout",
          "text": [
            "Matriz original:\n",
            " [[2 4 5 6]\n",
            " [1 2 4 5]\n",
            " [4 5 7 8]]\n",
            "Transpuesta:\n",
            " [[2 1 4]\n",
            " [4 2 5]\n",
            " [5 4 7]\n",
            " [6 5 8]]\n"
          ]
        }
      ]
    },
    {
      "cell_type": "markdown",
      "source": [
        "EJERCICIO 06"
      ],
      "metadata": {
        "id": "DzMcmga8mWY7"
      }
    },
    {
      "cell_type": "markdown",
      "source": [
        "Crea un DataFrame con las siguientes columnas: Nombre, Edad, Ciudad. Añade al menos 10 registros"
      ],
      "metadata": {
        "id": "hIdheyAmmZqL"
      }
    },
    {
      "cell_type": "code",
      "source": [
        "import pandas as pd\n",
        "\n",
        "datos = {\n",
        "    'Nombre': ['Ana', 'Luis', 'Carla', 'Pedro', 'Marta', 'Jorge', 'Sofía', 'Carlos', 'Lucía', 'Diego'],\n",
        "    'Edad': [25, 30, 22, 35, 28, 40, 23, 33, 27, 31],\n",
        "    'Ciudad': ['Madrid', 'Barcelona', 'Valencia', 'Sevilla', 'Bilbao', 'Madrid', 'Granada', 'Valencia', 'Sevilla', 'Barcelona']\n",
        "}\n",
        "\n",
        "df = pd.DataFrame(datos)\n",
        "\n",
        "print(\"DataFrame original:\")\n",
        "print(df)\n",
        "\n",
        "# 1. Filtrar personas que tienen más de 25 años\n",
        "mayores_25 = df[df['Edad'] > 25]\n",
        "print(\"\\nPersonas con más de 25 años:\")\n",
        "print(mayores_25)\n",
        "\n",
        "# 2. Añadir una nueva columna llamada Ingresos y rellenarla\n",
        "import numpy as np\n",
        "np.random.seed(0)\n",
        "df['Ingresos'] = np.random.randint(1000, 5000, size=len(df))\n",
        "print(\"\\nDataFrame con columna 'Ingresos':\")\n",
        "print(df)\n",
        "\n",
        "# 3. Encontrar el promedio de la edad\n",
        "promedio_edad = df['Edad'].mean()\n",
        "print(f\"\\nPromedio de edad: {promedio_edad:.2f}\")\n",
        "\n",
        "# 4. Agrupar por 'Ciudad' y calcular el promedio de Edad para cada ciudad\n",
        "promedio_edad_ciudad = df.groupby('Ciudad')['Edad'].mean()\n",
        "print(\"\\nPromedio de edad por ciudad:\")\n",
        "print(promedio_edad_ciudad)\n",
        "\n",
        "# 5. Ordenar el DataFrame por 'Edad' de manera ascendente\n",
        "df_asc = df.sort_values(by='Edad', ascending=True)\n",
        "print(\"\\nDataFrame ordenado por Edad (ascendente):\")\n",
        "print(df_asc)\n",
        "\n",
        "# Ordenar el DataFrame por 'Edad' de manera descendente\n",
        "df_desc = df.sort_values(by='Edad', ascending=False)\n",
        "print(\"\\nDataFrame ordenado por Edad (descendente):\")\n",
        "print(df_desc)\n"
      ],
      "metadata": {
        "colab": {
          "base_uri": "https://localhost:8080/"
        },
        "id": "n9G54ZdgnMbE",
        "outputId": "decadb34-2418-4717-a4c7-9c9ae55c36eb"
      },
      "execution_count": 8,
      "outputs": [
        {
          "output_type": "stream",
          "name": "stdout",
          "text": [
            "DataFrame original:\n",
            "   Nombre  Edad     Ciudad\n",
            "0     Ana    25     Madrid\n",
            "1    Luis    30  Barcelona\n",
            "2   Carla    22   Valencia\n",
            "3   Pedro    35    Sevilla\n",
            "4   Marta    28     Bilbao\n",
            "5   Jorge    40     Madrid\n",
            "6   Sofía    23    Granada\n",
            "7  Carlos    33   Valencia\n",
            "8   Lucía    27    Sevilla\n",
            "9   Diego    31  Barcelona\n",
            "\n",
            "Personas con más de 25 años:\n",
            "   Nombre  Edad     Ciudad\n",
            "1    Luis    30  Barcelona\n",
            "3   Pedro    35    Sevilla\n",
            "4   Marta    28     Bilbao\n",
            "5   Jorge    40     Madrid\n",
            "7  Carlos    33   Valencia\n",
            "8   Lucía    27    Sevilla\n",
            "9   Diego    31  Barcelona\n",
            "\n",
            "DataFrame con columna 'Ingresos':\n",
            "   Nombre  Edad     Ciudad  Ingresos\n",
            "0     Ana    25     Madrid      3732\n",
            "1    Luis    30  Barcelona      3607\n",
            "2   Carla    22   Valencia      2653\n",
            "3   Pedro    35    Sevilla      4264\n",
            "4   Marta    28     Bilbao      1835\n",
            "5   Jorge    40     Madrid      1763\n",
            "6   Sofía    23    Granada      2731\n",
            "7  Carlos    33   Valencia      4431\n",
            "8   Lucía    27    Sevilla      2033\n",
            "9   Diego    31  Barcelona      4795\n",
            "\n",
            "Promedio de edad: 29.40\n",
            "\n",
            "Promedio de edad por ciudad:\n",
            "Ciudad\n",
            "Barcelona    30.5\n",
            "Bilbao       28.0\n",
            "Granada      23.0\n",
            "Madrid       32.5\n",
            "Sevilla      31.0\n",
            "Valencia     27.5\n",
            "Name: Edad, dtype: float64\n",
            "\n",
            "DataFrame ordenado por Edad (ascendente):\n",
            "   Nombre  Edad     Ciudad  Ingresos\n",
            "2   Carla    22   Valencia      2653\n",
            "6   Sofía    23    Granada      2731\n",
            "0     Ana    25     Madrid      3732\n",
            "8   Lucía    27    Sevilla      2033\n",
            "4   Marta    28     Bilbao      1835\n",
            "1    Luis    30  Barcelona      3607\n",
            "9   Diego    31  Barcelona      4795\n",
            "7  Carlos    33   Valencia      4431\n",
            "3   Pedro    35    Sevilla      4264\n",
            "5   Jorge    40     Madrid      1763\n",
            "\n",
            "DataFrame ordenado por Edad (descendente):\n",
            "   Nombre  Edad     Ciudad  Ingresos\n",
            "5   Jorge    40     Madrid      1763\n",
            "3   Pedro    35    Sevilla      4264\n",
            "7  Carlos    33   Valencia      4431\n",
            "9   Diego    31  Barcelona      4795\n",
            "1    Luis    30  Barcelona      3607\n",
            "4   Marta    28     Bilbao      1835\n",
            "8   Lucía    27    Sevilla      2033\n",
            "0     Ana    25     Madrid      3732\n",
            "6   Sofía    23    Granada      2731\n",
            "2   Carla    22   Valencia      2653\n"
          ]
        }
      ]
    },
    {
      "cell_type": "markdown",
      "source": [
        "EJERCICIO 07"
      ],
      "metadata": {
        "id": "jwgDjtEEoCli"
      }
    },
    {
      "cell_type": "code",
      "source": [
        "import pandas as pd\n",
        "\n",
        "# Leer el archivo Excel\n",
        "df = pd.read_excel('/content/universidad.xlsx')\n",
        "print(df.head()) #Comprobar\n",
        "\n",
        "# 1. Cantidad de estudiantes en Ingeniería en Sistemas\n",
        "cantidad_sistemas = df[df['Carrera'] == 'Ing. en sistemas'].shape[0]\n",
        "\n",
        "# 2. Cantidad de estudiantes en Lic. en derecho\n",
        "cantidad_derecho = df[df['Carrera'] == 'Lic. en derecho'].shape[0]\n",
        "\n",
        "# 3. Cantidad de estudiantes inscritos en el año 2015\n",
        "# Primero extraemos el año de la columna 'Inscripción'\n",
        "df['Año'] = pd.DatetimeIndex(df['Inscripción']).year\n",
        "cantidad_2015 = df[df['Año'] == 2015].shape[0]\n",
        "\n",
        "# 4. Cantidad de estudiantes del 1er y 2do semestre\n",
        "semestres_1_2 = df[df['Semestre'].isin([1, 2])]\n",
        "conteo_semestres = semestres_1_2.groupby('Semestre').size().reset_index(name='Cantidad').sort_values('Semestre')\n",
        "\n",
        "# Resultados\n",
        "print(f\"\\nCantidad de estudiantes en Ingeniería en sistemas: {cantidad_sistemas}\")\n",
        "print(f\"Cantidad de estudiantes en Lic. en derecho: {cantidad_derecho}\")\n",
        "print(f\"Cantidad de estudiantes inscritos en 2025: {cantidad_2015}\")\n",
        "\n",
        "print(\"\\nCantidad de estudiantes por semestre (1 y 2):\")\n",
        "print(conteo_semestres.to_string(index=False))\n"
      ],
      "metadata": {
        "colab": {
          "base_uri": "https://localhost:8080/"
        },
        "id": "1dnCInCwoF7L",
        "outputId": "45f6434d-c5ca-48c0-9bc9-7934e7b445ff"
      },
      "execution_count": 7,
      "outputs": [
        {
          "output_type": "stream",
          "name": "stdout",
          "text": [
            "  Num Control              Carrera  Semestre Inscripción  Id Persona\n",
            "0    SeNeTe01  Lic. en nutriología         7  2015-05-20           1\n",
            "1    JeViPi02         Ing. química         8  2015-05-02           2\n",
            "2    MaFeNú03      Lic. en derecho         6  2015-05-09           3\n",
            "3    WiVaLó04     Ing. en sistemas         2  2016-12-03           4\n",
            "4    BaRiDe05     Ing. mecatrónica        10  2018-12-01           5\n",
            "\n",
            "Cantidad de estudiantes en Ingeniería en sistemas: 13\n",
            "Cantidad de estudiantes en Lic. en derecho: 17\n",
            "Cantidad de estudiantes inscritos en 2025: 23\n",
            "\n",
            "Cantidad de estudiantes por semestre (1 y 2):\n",
            " Semestre  Cantidad\n",
            "        1        11\n",
            "        2        11\n"
          ]
        }
      ]
    }
  ]
}